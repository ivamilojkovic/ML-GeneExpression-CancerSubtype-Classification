{
 "cells": [
  {
   "cell_type": "code",
   "execution_count": 24,
   "metadata": {},
   "outputs": [],
   "source": [
    "%matplotlib inline\n",
    "import matplotlib.pyplot as plt\n",
    "plt.rcParams[\"figure.figsize\"] = (12, 4)\n",
    "\n",
    "import seaborn as sns\n",
    "import pandas as pd\n",
    "import os, pickle, glob"
   ]
  },
  {
   "cell_type": "code",
   "execution_count": 25,
   "metadata": {},
   "outputs": [
    {
     "data": {
      "text/plain": [
       "['experiments/run_23-02-2023_23:02:58.pkl',\n",
       " 'experiments/run_23-02-2023_23:17:22.pkl',\n",
       " 'experiments/run_24-02-2023_17:31:40.pkl',\n",
       " 'experiments/run_24-02-2023_19:41:30.pkl',\n",
       " 'experiments/run_10-03-2023_12:30:22.pkl',\n",
       " 'experiments/run_11-03-2023_20:43:02.pkl',\n",
       " 'experiments/run_11-03-2023_22:59:23.pkl',\n",
       " 'experiments/run_12-03-2023_01:14:27.pkl',\n",
       " 'experiments/run_13-03-2023_22:31:58.pkl',\n",
       " 'experiments/run_14-03-2023_12:48:01.pkl',\n",
       " 'experiments/run_14-03-2023_14:07:46.pkl',\n",
       " 'experiments/run_14-03-2023_14:08:15.pkl',\n",
       " 'experiments/run_14-03-2023_14:08:52.pkl',\n",
       " 'experiments/run_14-03-2023_14:46:16.pkl',\n",
       " 'experiments/run_14-03-2023_19:23:06.pkl',\n",
       " 'experiments/run_14-03-2023_20:34:09.pkl',\n",
       " 'experiments/run_15-03-2023_00:14:15.pkl',\n",
       " 'experiments/run_31-03-2023_00:26:42.pkl',\n",
       " 'experiments/run_31-03-2023_11:38:10.pkl',\n",
       " 'experiments/run_31-03-2023_16:21:59.pkl',\n",
       " 'experiments/run_31-03-2023_17:30:46.pkl',\n",
       " 'experiments/run_01-04-2023_10:10:59.pkl',\n",
       " 'experiments/run_01-04-2023_10:56:01.pkl',\n",
       " 'experiments/run_01-04-2023_12:38:56.pkl',\n",
       " 'experiments/run_02-04-2023_16:08:49.pkl']"
      ]
     },
     "execution_count": 25,
     "metadata": {},
     "output_type": "execute_result"
    }
   ],
   "source": [
    "curr_dir = os.getcwd()\n",
    "experiments = sorted(glob.glob('experiments/*.pkl'),  key=os.path.getmtime)\n",
    "experiments"
   ]
  },
  {
   "cell_type": "code",
   "execution_count": 26,
   "metadata": {},
   "outputs": [
    {
     "data": {
      "text/plain": [
       "{'solve_ibm': False,\n",
       " 'use_smote': True,\n",
       " 'cross_validation': False,\n",
       " 'multi_label_classification': False,\n",
       " 'n_folds': 10,\n",
       " 'n_features_to_select': 500,\n",
       " 'test_size': 0.3,\n",
       " 'feature_selection_method': 'Univariate',\n",
       " 'optimized': True,\n",
       " 'model_type': 'Random Forest',\n",
       " 'model_params': {'criterion': 'entropy',\n",
       "  'min_samples_leaf': 2,\n",
       "  'min_samples_split': 5,\n",
       "  'n_estimators': 150},\n",
       " 'training_time': 441.95765924453735,\n",
       " 'results': {'Accuracy weighted': 0.8924050632911392,\n",
       "  'Precision weighted': 0.905874348912946,\n",
       "  'Recall weighted': 0.8924050632911392,\n",
       "  'F1 score weighted': 0.8964384828148488,\n",
       "  'Precision unweighted': 0.7930763178599527,\n",
       "  'Recall unweighted': 0.9116077481840194,\n",
       "  'F1 score unweighted': 0.8339559716229065,\n",
       "  'Precision per class': array([1.        , 0.75      , 0.95731707, 0.75806452, 0.5       ]),\n",
       "  'Recall per class': array([0.96428571, 0.9       , 0.89714286, 0.79661017, 1.        ]),\n",
       "  'F1 score per class': array([0.98181818, 0.81818182, 0.92625369, 0.7768595 , 0.66666667])}}"
      ]
     },
     "execution_count": 26,
     "metadata": {},
     "output_type": "execute_result"
    }
   ],
   "source": [
    "exp_path = 'run_02-04-2023_16:08:49.pkl'\n",
    "with open(os.path.join(curr_dir, 'experiments', exp_path), 'rb') as file:\n",
    "    exp = pickle.load(file)\n",
    "exp"
   ]
  },
  {
   "cell_type": "code",
   "execution_count": 11,
   "metadata": {},
   "outputs": [],
   "source": [
    "experiment_after = 'run_12-03-2023_01:14:27.pkl'\n",
    "experiment_before = 'run_10-03-2023_12:30:22.pkl'\n",
    "\n",
    "with open(os.path.join(curr_dir, 'experiments', experiment_before), 'rb') as file:\n",
    "    exp_before = pickle.load(file)\n",
    "\n",
    "with open(os.path.join(curr_dir, 'experiments', experiment_after), 'rb') as file:\n",
    "    exp_after = pickle.load(file)"
   ]
  },
  {
   "cell_type": "code",
   "execution_count": 50,
   "metadata": {},
   "outputs": [
    {
     "data": {
      "text/plain": [
       "{'solve_ibm': False,\n",
       " 'use_smote': True,\n",
       " 'cross_validation': False,\n",
       " 'multi_label_classification': False,\n",
       " 'n_folds': 10,\n",
       " 'n_features_to_select': 500,\n",
       " 'test_size': 0.3,\n",
       " 'feature_selection_method': 'Univariate',\n",
       " 'optimized': True,\n",
       " 'model_type': 'XGBoost',\n",
       " 'model_params': {'base_score': 0.5,\n",
       "  'booster': 'gbtree',\n",
       "  'colsample_bytree': 0.5,\n",
       "  'gamma': 0,\n",
       "  'learning_rate': 0.1,\n",
       "  'max_depth': 7,\n",
       "  'n_estimators': 100,\n",
       "  'reg_alpha': 0,\n",
       "  'reg_lambda': 0,\n",
       "  'subsample': 0.8},\n",
       " 'training_time': 2918.2535059452057,\n",
       " 'results': {'Accuracy weighted': 0.9018987341772152,\n",
       "  'Precision weighted': 0.9131498928641119,\n",
       "  'Recall weighted': 0.9018987341772152,\n",
       "  'F1 score weighted': 0.905048956541307,\n",
       "  'Precision unweighted': 0.8124908937261415,\n",
       "  'Recall unweighted': 0.8999279274706729,\n",
       "  'F1 score unweighted': 0.8458064950681459,\n",
       "  'Precision per class': array([0.98148148, 0.83333333, 0.95731707, 0.79032258, 0.5       ]),\n",
       "  'Recall per class': array([1.        , 0.86956522, 0.88202247, 0.89090909, 0.85714286]),\n",
       "  'F1 score per class': array([0.99065421, 0.85106383, 0.91812865, 0.83760684, 0.63157895])}}"
      ]
     },
     "execution_count": 50,
     "metadata": {},
     "output_type": "execute_result"
    }
   ],
   "source": [
    "exp_before"
   ]
  },
  {
   "cell_type": "code",
   "execution_count": 51,
   "metadata": {},
   "outputs": [
    {
     "data": {
      "text/plain": [
       "{'Accuracy weighted': 0.9018987341772152,\n",
       " 'Precision weighted': 0.9131498928641119,\n",
       " 'Recall weighted': 0.9018987341772152,\n",
       " 'F1 score weighted': 0.905048956541307,\n",
       " 'Precision unweighted': 0.8124908937261415,\n",
       " 'Recall unweighted': 0.8999279274706729,\n",
       " 'F1 score unweighted': 0.8458064950681459,\n",
       " 'Precision per class': array([0.98148148, 0.83333333, 0.95731707, 0.79032258, 0.5       ]),\n",
       " 'Recall per class': array([1.        , 0.86956522, 0.88202247, 0.89090909, 0.85714286]),\n",
       " 'F1 score per class': array([0.99065421, 0.85106383, 0.91812865, 0.83760684, 0.63157895])}"
      ]
     },
     "execution_count": 51,
     "metadata": {},
     "output_type": "execute_result"
    }
   ],
   "source": [
    "results_before = exp_before['results']\n",
    "results_before"
   ]
  },
  {
   "cell_type": "code",
   "execution_count": 52,
   "metadata": {},
   "outputs": [
    {
     "data": {
      "text/plain": [
       "{'Accuracy weighted': 0.8765822784810127,\n",
       " 'Precision weighted': 0.8906569584104715,\n",
       " 'Recall weighted': 0.8765822784810127,\n",
       " 'F1 score weighted': 0.8808651150531047,\n",
       " 'Precision unweighted': 0.7645569251391439,\n",
       " 'Recall unweighted': 0.8532202928157984,\n",
       " 'F1 score unweighted': 0.7939973993314894,\n",
       " 'Precision per class': array([0.96296296, 0.75      , 0.95121951, 0.74193548, 0.41666667]),\n",
       " 'Recall per class': array([1.        , 0.72      , 0.87640449, 0.83636364, 0.83333333]),\n",
       " 'F1 score per class': array([0.98113208, 0.73469388, 0.9122807 , 0.78632479, 0.55555556])}"
      ]
     },
     "execution_count": 52,
     "metadata": {},
     "output_type": "execute_result"
    }
   ],
   "source": [
    "results_after = exp_after['results']\n",
    "results_after"
   ]
  },
  {
   "cell_type": "code",
   "execution_count": 53,
   "metadata": {},
   "outputs": [
    {
     "data": {
      "text/plain": [
       "<AxesSubplot: title={'center': 'Scores after new sample generation'}>"
      ]
     },
     "execution_count": 53,
     "metadata": {},
     "output_type": "execute_result"
    },
    {
     "data": {
      "image/png": "[encoded data removed]",
      "text/plain": [
       "<Figure size 1200x400 with 2 Axes>"
      ]
     },
     "metadata": {},
     "output_type": "display_data"
    }
   ],
   "source": [
    "weighted = [results_before['Precision weighted'], results_before['Recall weighted'], results_before['F1 score weighted']]\n",
    "unweighted = [results_before['Precision unweighted'], results_before['Recall unweighted'], results_before['F1 score unweighted']]\n",
    "\n",
    "weighted_after = [results_after['Precision weighted'], results_after['Recall weighted'], results_after['F1 score weighted']]\n",
    "unweighted_after = [results_after['Precision unweighted'], results_after['Recall unweighted'], results_after['F1 score unweighted']]\n",
    "\n",
    "df = pd.DataFrame({'Weighted': weighted, 'Unweighted': unweighted}, index=['Precision', 'Recall', 'F1 score'])\n",
    "df_after = pd.DataFrame({'Weighted': weighted_after,'Unweighted': unweighted_after}, index=['Precision', 'Recall', 'F1 score'])\n",
    "\n",
    "fig, axes = plt.subplots(nrows=1, ncols=2)\n",
    "df.plot(kind='bar', rot=0, title='Scores before new sample generation', ax=axes[0])\n",
    "df_after.plot(kind='bar', rot=0, title='Scores after new sample generation',  ax=axes[1])\n"
   ]
  },
  {
   "cell_type": "code",
   "execution_count": 55,
   "metadata": {},
   "outputs": [
    {
     "data": {
      "text/plain": [
       "<AxesSubplot: title={'center': 'Unweighted scores'}>"
      ]
     },
     "execution_count": 55,
     "metadata": {},
     "output_type": "execute_result"
    },
    {
     "data": {
      "image/png": "[encoded data removed]",
      "text/plain": [
       "<Figure size 1200x400 with 2 Axes>"
      ]
     },
     "metadata": {},
     "output_type": "display_data"
    }
   ],
   "source": [
    "df_weighted = pd.DataFrame({'Weighted before': weighted,\n",
    "                   'Weighted after': weighted_after}, index=['Precision', 'Recall', 'F1 score'])\n",
    "\n",
    "df_unweighted = pd.DataFrame({'Unweighted before': unweighted,\n",
    "                   'Unweighted after': unweighted_after}, index=['Precision', 'Recall', 'F1 score'])\n",
    "\n",
    "fig, axes = plt.subplots(nrows=1, ncols=2)\n",
    "df_weighted.plot(kind='bar', rot=0, title='Weighted scores', ax=axes[0])\n",
    "df_unweighted.plot(kind='bar', rot=0, title='Unweighted scores',  ax=axes[1])"
   ]
  },
  {
   "cell_type": "code",
   "execution_count": 56,
   "metadata": {},
   "outputs": [
    {
     "data": {
      "text/plain": [
       "<AxesSubplot: title={'center': 'Scores after new sample generation'}>"
      ]
     },
     "execution_count": 56,
     "metadata": {},
     "output_type": "execute_result"
    },
    {
     "data": {
      "image/png": "[encoded data removed]",
      "text/plain": [
       "<Figure size 1200x400 with 2 Axes>"
      ]
     },
     "metadata": {},
     "output_type": "display_data"
    }
   ],
   "source": [
    "precision_before = results_before['Precision per class']\n",
    "recall_before = results_before['Recall per class']\n",
    "f1_before = results_before['F1 score per class']\n",
    "\n",
    "precision_after = results_after['Precision per class']\n",
    "recall_after = results_after['Recall per class']\n",
    "f1_after = results_after['F1 score per class']\n",
    "\n",
    "df_before = pd.DataFrame({'Precision': precision_before,\n",
    "                   'Recall': recall_before,\n",
    "                   'F1 score': f1_before}, index=['LumA', 'LumB', 'Basal', 'Ref2', 'Normal'])\n",
    "df_after = pd.DataFrame({'Precision': precision_after,\n",
    "                   'Recall': recall_after,\n",
    "                   'F1 score': f1_after}, index=['LumA', 'LumB', 'Basal', 'Ref2', 'Normal'])\n",
    "\n",
    "fig, axes = plt.subplots(nrows=1, ncols=2)\n",
    "\n",
    "df_before.plot(kind='bar', rot=0, title='Scores before new sample generation', ax=axes[0])\n",
    "df_after.plot(kind='bar', rot=0, title='Scores after new sample generation', ax=axes[1])"
   ]
  },
  {
   "attachments": {},
   "cell_type": "markdown",
   "metadata": {},
   "source": [
    "# Model Comparison"
   ]
  },
  {
   "cell_type": "code",
   "execution_count": 61,
   "metadata": {},
   "outputs": [
    {
     "data": {
      "text/plain": [
       "['experiments/run_23-02-2023_23:02:58.pkl',\n",
       " 'experiments/run_23-02-2023_23:17:22.pkl',\n",
       " 'experiments/run_24-02-2023_17:31:40.pkl',\n",
       " 'experiments/run_24-02-2023_19:41:30.pkl',\n",
       " 'experiments/run_10-03-2023_12:30:22.pkl',\n",
       " 'experiments/run_11-03-2023_20:43:02.pkl',\n",
       " 'experiments/run_11-03-2023_22:59:23.pkl',\n",
       " 'experiments/run_12-03-2023_01:14:27.pkl',\n",
       " 'experiments/run_13-03-2023_22:31:58.pkl',\n",
       " 'experiments/run_14-03-2023_12:48:01.pkl',\n",
       " 'experiments/run_14-03-2023_14:07:46.pkl',\n",
       " 'experiments/run_14-03-2023_14:08:15.pkl',\n",
       " 'experiments/run_14-03-2023_14:08:52.pkl',\n",
       " 'experiments/run_14-03-2023_14:46:16.pkl',\n",
       " 'experiments/run_14-03-2023_19:23:06.pkl']"
      ]
     },
     "execution_count": 61,
     "metadata": {},
     "output_type": "execute_result"
    }
   ],
   "source": [
    "experiments"
   ]
  },
  {
   "cell_type": "code",
   "execution_count": 85,
   "metadata": {},
   "outputs": [
    {
     "data": {
      "text/plain": [
       "{'solve_ibm': False,\n",
       " 'use_smote': True,\n",
       " 'cross_validation': False,\n",
       " 'multi_label_classification': False,\n",
       " 'n_folds': 10,\n",
       " 'n_features_to_select': 500,\n",
       " 'test_size': 0.3,\n",
       " 'feature_selection_method': 'Univariate',\n",
       " 'optimized': True,\n",
       " 'model_type': 'AdaBoost',\n",
       " 'model_params': {'learning_rate': 0.3, 'n_estimators': 100},\n",
       " 'training_time': 851.7926778793335,\n",
       " 'results': {'Accuracy weighted': 0.8734177215189873,\n",
       "  'Precision weighted': 0.9009887061916759,\n",
       "  'Recall weighted': 0.8734177215189873,\n",
       "  'F1 score weighted': 0.8793098539655384,\n",
       "  'Precision unweighted': 0.8033656788180785,\n",
       "  'Recall unweighted': 0.867690782167222,\n",
       "  'F1 score unweighted': 0.8269118204538399,\n",
       "  'Precision per class': array([0.94444444, 0.83333333, 0.97560976, 0.59677419, 0.66666667]),\n",
       "  'Recall per class': array([1.        , 0.90909091, 0.83769634, 0.925     , 0.66666667]),\n",
       "  'F1 score per class': array([0.97142857, 0.86956522, 0.90140845, 0.7254902 , 0.66666667])}}"
      ]
     },
     "execution_count": 85,
     "metadata": {},
     "output_type": "execute_result"
    }
   ],
   "source": [
    "experiment_ada = 'run_14-03-2023_19:23:06.pkl'\n",
    "\n",
    "with open(os.path.join(curr_dir, 'experiments', experiment_ada), 'rb') as file:\n",
    "    exp_ada = pickle.load(file)\n",
    "\n",
    "exp_ada"
   ]
  },
  {
   "cell_type": "code",
   "execution_count": 86,
   "metadata": {},
   "outputs": [
    {
     "data": {
      "text/plain": [
       "{'solve_ibm': False,\n",
       " 'use_smote': True,\n",
       " 'cross_validation': False,\n",
       " 'multi_label_classification': False,\n",
       " 'n_folds': 10,\n",
       " 'n_features_to_select': 500,\n",
       " 'test_size': 0.3,\n",
       " 'feature_selection_method': 'Univariate',\n",
       " 'optimized': True,\n",
       " 'model_type': 'SVC',\n",
       " 'model_params': {'C': 0.1,\n",
       "  'class_weight': None,\n",
       "  'degree': 3,\n",
       "  'gamma': 'scale',\n",
       "  'kernel': 'poly',\n",
       "  'tol': 0.01},\n",
       " 'training_time': 1242.446135044098,\n",
       " 'results': {'Accuracy weighted': 0.870253164556962,\n",
       "  'Precision weighted': 0.8715048276622688,\n",
       "  'Recall weighted': 0.870253164556962,\n",
       "  'F1 score weighted': 0.8705422441413032,\n",
       "  'Precision unweighted': 0.8231649036920479,\n",
       "  'Recall unweighted': 0.8095732129796808,\n",
       "  'F1 score unweighted': 0.8157148187958176,\n",
       "  'Precision per class': array([0.98148148, 0.83333333, 0.90853659, 0.72580645, 0.66666667]),\n",
       "  'Recall per class': array([0.96363636, 0.74074074, 0.91411043, 0.76271186, 0.66666667]),\n",
       "  'F1 score per class': array([0.97247706, 0.78431373, 0.91131498, 0.74380165, 0.66666667])}}"
      ]
     },
     "execution_count": 86,
     "metadata": {},
     "output_type": "execute_result"
    }
   ],
   "source": [
    "experiment_svc = 'run_14-03-2023_14:46:16.pkl'\n",
    "\n",
    "with open(os.path.join(curr_dir, 'experiments', experiment_svc), 'rb') as file:\n",
    "    exp_svc = pickle.load(file)\n",
    "\n",
    "exp_svc"
   ]
  },
  {
   "cell_type": "code",
   "execution_count": 87,
   "metadata": {},
   "outputs": [
    {
     "data": {
      "text/plain": [
       "{'solve_ibm': False,\n",
       " 'use_smote': True,\n",
       " 'cross_validation': False,\n",
       " 'multi_label_classification': False,\n",
       " 'n_folds': 10,\n",
       " 'n_features_to_select': 500,\n",
       " 'test_size': 0.3,\n",
       " 'feature_selection_method': 'Univariate',\n",
       " 'optimized': True,\n",
       " 'model_type': 'Decision Tree',\n",
       " 'model_params': {'class_weight': None,\n",
       "  'criterion': 'entropy',\n",
       "  'max_depth': 5,\n",
       "  'min_samples_leaf': 2,\n",
       "  'min_samples_split': 2,\n",
       "  'splitter': 'best'},\n",
       " 'training_time': 590.9442648887634,\n",
       " 'results': {'Accuracy weighted': 0.8006329113924051,\n",
       "  'Precision weighted': 0.7962542921672582,\n",
       "  'Recall weighted': 0.8006329113924051,\n",
       "  'F1 score weighted': 0.7973644559268255,\n",
       "  'Precision unweighted': 0.7301505084943323,\n",
       "  'Recall unweighted': 0.7428791999891744,\n",
       "  'F1 score unweighted': 0.7341426768177108,\n",
       "  'Precision per class': array([0.90740741, 0.70833333, 0.84146341, 0.69354839, 0.5       ]),\n",
       "  'Recall per class': array([0.96078431, 0.85      , 0.85185185, 0.62318841, 0.42857143]),\n",
       "  'F1 score per class': array([0.93333333, 0.77272727, 0.84662577, 0.65648855, 0.46153846])}}"
      ]
     },
     "execution_count": 87,
     "metadata": {},
     "output_type": "execute_result"
    }
   ],
   "source": [
    "experiment_dt = 'run_14-03-2023_14:08:52.pkl'\n",
    "\n",
    "with open(os.path.join(curr_dir, 'experiments', experiment_dt), 'rb') as file:\n",
    "    exp_dt = pickle.load(file)\n",
    "\n",
    "exp_dt"
   ]
  },
  {
   "cell_type": "code",
   "execution_count": 88,
   "metadata": {},
   "outputs": [
    {
     "data": {
      "text/plain": [
       "{'solve_ibm': False,\n",
       " 'use_smote': True,\n",
       " 'cross_validation': False,\n",
       " 'multi_label_classification': False,\n",
       " 'n_folds': 10,\n",
       " 'n_features_to_select': 500,\n",
       " 'test_size': 0.3,\n",
       " 'feature_selection_method': 'Univariate',\n",
       " 'optimized': True,\n",
       " 'model_type': 'KNN',\n",
       " 'model_params': {'leaf_size': 10,\n",
       "  'metric': 'minkowski',\n",
       "  'n_neighbors': 5,\n",
       "  'weights': 'uniform'},\n",
       " 'training_time': 1.690474033355713,\n",
       " 'results': {'Accuracy weighted': 0.8227848101265823,\n",
       "  'Precision weighted': 0.8731847161775005,\n",
       "  'Recall weighted': 0.8227848101265823,\n",
       "  'F1 score weighted': 0.8381532638175324,\n",
       "  'Precision unweighted': 0.7505186933589766,\n",
       "  'Recall unweighted': 0.7943504757937747,\n",
       "  'F1 score unweighted': 0.7589380532456098,\n",
       "  'Precision per class': array([0.98148148, 0.75      , 0.95121951, 0.40322581, 0.66666667]),\n",
       "  'Recall per class': array([0.98148148, 0.85714286, 0.80412371, 0.75757576, 0.57142857]),\n",
       "  'F1 score per class': array([0.98148148, 0.8       , 0.87150838, 0.52631579, 0.61538462])}}"
      ]
     },
     "execution_count": 88,
     "metadata": {},
     "output_type": "execute_result"
    }
   ],
   "source": [
    "experiment_knn = 'run_14-03-2023_14:08:15.pkl'\n",
    "\n",
    "with open(os.path.join(curr_dir, 'experiments', experiment_knn), 'rb') as file:\n",
    "    exp_knn = pickle.load(file)\n",
    "\n",
    "exp_knn"
   ]
  },
  {
   "cell_type": "code",
   "execution_count": 89,
   "metadata": {},
   "outputs": [
    {
     "data": {
      "text/plain": [
       "{'solve_ibm': False,\n",
       " 'use_smote': True,\n",
       " 'cross_validation': False,\n",
       " 'multi_label_classification': False,\n",
       " 'n_folds': 10,\n",
       " 'n_features_to_select': 500,\n",
       " 'test_size': 0.3,\n",
       " 'feature_selection_method': 'Univariate',\n",
       " 'optimized': True,\n",
       " 'model_type': 'Logistic Regression',\n",
       " 'model_params': {'C': 0.05,\n",
       "  'max_iter': 100,\n",
       "  'penalty': 'l2',\n",
       "  'solver': 'sag',\n",
       "  'tol': 0.01},\n",
       " 'training_time': 4419.624131679535,\n",
       " 'results': {'Accuracy weighted': 0.8955696202531646,\n",
       "  'Precision weighted': 0.8956620546962921,\n",
       "  'Recall weighted': 0.8955696202531646,\n",
       "  'F1 score weighted': 0.8948312405684927,\n",
       "  'Precision unweighted': 0.8720102281667979,\n",
       "  'Recall unweighted': 0.8833807622013132,\n",
       "  'F1 score unweighted': 0.8758387683317878,\n",
       "  'Precision per class': array([1.        , 0.875     , 0.89634146, 0.83870968, 0.75      ]),\n",
       "  'Recall per class': array([0.98181818, 0.84      , 0.93037975, 0.76470588, 0.9       ]),\n",
       "  'F1 score per class': array([0.99082569, 0.85714286, 0.91304348, 0.8       , 0.81818182])}}"
      ]
     },
     "execution_count": 89,
     "metadata": {},
     "output_type": "execute_result"
    }
   ],
   "source": [
    "experiment_lr = 'run_14-03-2023_12:48:01.pkl'\n",
    "\n",
    "with open(os.path.join(curr_dir, 'experiments', experiment_lr), 'rb') as file:\n",
    "    exp_lr = pickle.load(file)\n",
    "\n",
    "exp_lr\n"
   ]
  },
  {
   "cell_type": "code",
   "execution_count": 90,
   "metadata": {},
   "outputs": [
    {
     "data": {
      "text/plain": [
       "{'solve_ibm': False,\n",
       " 'use_smote': True,\n",
       " 'cross_validation': False,\n",
       " 'multi_label_classification': False,\n",
       " 'n_folds': 10,\n",
       " 'n_features_to_select': 500,\n",
       " 'test_size': 0.3,\n",
       " 'feature_selection_method': 'Univariate',\n",
       " 'optimized': True,\n",
       " 'model_type': 'MLP Classifier',\n",
       " 'model_params': {'activation': 'logistic',\n",
       "  'alpha': 0.1,\n",
       "  'batch_size': 5,\n",
       "  'hidden_layer_sizes': (30, 10, 10, 5),\n",
       "  'learning_rate': 'constant',\n",
       "  'learning_rate_init': 0.01,\n",
       "  'solver': 'lbfgs'},\n",
       " 'training_time': 42169.9572160244,\n",
       " 'results': {'Accuracy weighted': 0.8417721518987342,\n",
       "  'Precision weighted': 0.8767006600411723,\n",
       "  'Recall weighted': 0.8417721518987342,\n",
       "  'F1 score weighted': 0.8524935605755362,\n",
       "  'Precision unweighted': 0.6687545531369292,\n",
       "  'Recall unweighted': 0.6768302109225987,\n",
       "  'F1 score unweighted': 0.6653854205118529,\n",
       "  'Precision per class': array([0.92592593, 0.66666667, 0.89634146, 0.85483871, 0.        ]),\n",
       "  'Recall per class': array([0.96153846, 0.88888889, 0.9245283 , 0.6091954 , 0.        ]),\n",
       "  'F1 score per class': array([0.94339623, 0.76190476, 0.91021672, 0.7114094 , 0.        ])}}"
      ]
     },
     "execution_count": 90,
     "metadata": {},
     "output_type": "execute_result"
    }
   ],
   "source": [
    "experiment_mlp = 'run_13-03-2023_22:31:58.pkl'\n",
    "\n",
    "with open(os.path.join(curr_dir, 'experiments', experiment_mlp), 'rb') as file:\n",
    "    exp_mlp = pickle.load(file)\n",
    "\n",
    "exp_mlp"
   ]
  },
  {
   "cell_type": "code",
   "execution_count": 91,
   "metadata": {},
   "outputs": [
    {
     "data": {
      "text/plain": [
       "{'solve_ibm': False,\n",
       " 'use_smote': True,\n",
       " 'cross_validation': False,\n",
       " 'multi_label_classification': False,\n",
       " 'n_folds': 10,\n",
       " 'n_features_to_select': 500,\n",
       " 'test_size': 0.3,\n",
       " 'feature_selection_method': 'Univariate',\n",
       " 'optimized': True,\n",
       " 'model_type': 'XGBoost',\n",
       " 'model_params': {'base_score': 0.5,\n",
       "  'booster': 'gbtree',\n",
       "  'colsample_bytree': 0.5,\n",
       "  'gamma': 0,\n",
       "  'learning_rate': 0.1,\n",
       "  'max_depth': 7,\n",
       "  'n_estimators': 100,\n",
       "  'reg_alpha': 0,\n",
       "  'reg_lambda': 0,\n",
       "  'subsample': 0.8},\n",
       " 'training_time': 2918.2535059452057,\n",
       " 'results': {'Accuracy weighted': 0.9018987341772152,\n",
       "  'Precision weighted': 0.9131498928641119,\n",
       "  'Recall weighted': 0.9018987341772152,\n",
       "  'F1 score weighted': 0.905048956541307,\n",
       "  'Precision unweighted': 0.8124908937261415,\n",
       "  'Recall unweighted': 0.8999279274706729,\n",
       "  'F1 score unweighted': 0.8458064950681459,\n",
       "  'Precision per class': array([0.98148148, 0.83333333, 0.95731707, 0.79032258, 0.5       ]),\n",
       "  'Recall per class': array([1.        , 0.86956522, 0.88202247, 0.89090909, 0.85714286]),\n",
       "  'F1 score per class': array([0.99065421, 0.85106383, 0.91812865, 0.83760684, 0.63157895])}}"
      ]
     },
     "execution_count": 91,
     "metadata": {},
     "output_type": "execute_result"
    }
   ],
   "source": [
    "experiment_xgb = 'run_10-03-2023_12:30:22.pkl'\n",
    "\n",
    "with open(os.path.join(curr_dir, 'experiments', experiment_xgb), 'rb') as file:\n",
    "    exp_xgb = pickle.load(file)\n",
    "\n",
    "exp_xgb"
   ]
  },
  {
   "cell_type": "code",
   "execution_count": 92,
   "metadata": {},
   "outputs": [
    {
     "data": {
      "text/plain": [
       "{'solve_ibm': False,\n",
       " 'use_smote': True,\n",
       " 'cross_validation': False,\n",
       " 'multi_label_classification': False,\n",
       " 'n_folds': 10,\n",
       " 'n_features_to_select': 500,\n",
       " 'test_size': 0.3,\n",
       " 'feature_selection_method': 'Univariate',\n",
       " 'optimized': True,\n",
       " 'model_type': 'LightGBM',\n",
       " 'model_params': {'learning_rate': 0.1,\n",
       "  'max_depth': 3,\n",
       "  'min_gain_to_split': 2,\n",
       "  'n_estimators': 100,\n",
       "  'num_leaves': 3,\n",
       "  'reg_alpha': 10,\n",
       "  'reg_lambda': 30},\n",
       " 'training_time': 6300.756268978119,\n",
       " 'results': {'Accuracy weighted': 0.8607594936708861,\n",
       "  'Precision weighted': 0.9076063276200339,\n",
       "  'Recall weighted': 0.8607594936708861,\n",
       "  'F1 score weighted': 0.8809751234877123,\n",
       "  'Precision unweighted': 0.6648505114083398,\n",
       "  'Recall unweighted': 0.6952171360140362,\n",
       "  'F1 score unweighted': 0.6747291614575046,\n",
       "  'Precision per class': array([1.        , 0.625     , 0.95731707, 0.74193548, 0.        ]),\n",
       "  'Recall per class': array([0.94736842, 0.88235294, 0.85326087, 0.79310345, 0.        ]),\n",
       "  'F1 score per class': array([0.97297297, 0.73170732, 0.90229885, 0.76666667, 0.        ])}}"
      ]
     },
     "execution_count": 92,
     "metadata": {},
     "output_type": "execute_result"
    }
   ],
   "source": [
    "experiment_lgbm = 'run_11-03-2023_20:43:02.pkl'\n",
    "\n",
    "with open(os.path.join(curr_dir, 'experiments', experiment_lgbm), 'rb') as file:\n",
    "    exp_lgbm = pickle.load(file)\n",
    "\n",
    "exp_lgbm"
   ]
  },
  {
   "cell_type": "code",
   "execution_count": 93,
   "metadata": {},
   "outputs": [
    {
     "data": {
      "text/plain": [
       "{'solve_ibm': False,\n",
       " 'use_smote': True,\n",
       " 'cross_validation': False,\n",
       " 'multi_label_classification': False,\n",
       " 'n_folds': 10,\n",
       " 'n_features_to_select': 500,\n",
       " 'test_size': 0.3,\n",
       " 'feature_selection_method': 'Univariate',\n",
       " 'optimized': True,\n",
       " 'model_type': 'Random Forest',\n",
       " 'model_params': {'criterion': 'entropy',\n",
       "  'min_samples_leaf': 2,\n",
       "  'min_samples_split': 5,\n",
       "  'n_estimators': 150},\n",
       " 'training_time': 773.9439737796783,\n",
       " 'results': {'Accuracy weighted': 0.8924050632911392,\n",
       "  'Precision weighted': 0.905874348912946,\n",
       "  'Recall weighted': 0.8924050632911392,\n",
       "  'F1 score weighted': 0.8964384828148488,\n",
       "  'Precision unweighted': 0.7930763178599527,\n",
       "  'Recall unweighted': 0.9116077481840194,\n",
       "  'F1 score unweighted': 0.8339559716229065,\n",
       "  'Precision per class': array([1.        , 0.75      , 0.95731707, 0.75806452, 0.5       ]),\n",
       "  'Recall per class': array([0.96428571, 0.9       , 0.89714286, 0.79661017, 1.        ]),\n",
       "  'F1 score per class': array([0.98181818, 0.81818182, 0.92625369, 0.7768595 , 0.66666667])}}"
      ]
     },
     "execution_count": 93,
     "metadata": {},
     "output_type": "execute_result"
    }
   ],
   "source": [
    "experiment_rf = 'run_14-03-2023_20:34:09.pkl'\n",
    "\n",
    "with open(os.path.join(curr_dir, 'experiments', experiment_rf), 'rb') as file:\n",
    "    exp_rf = pickle.load(file)\n",
    "\n",
    "exp_rf"
   ]
  },
  {
   "cell_type": "code",
   "execution_count": 100,
   "metadata": {},
   "outputs": [
    {
     "data": {
      "text/plain": [
       "[0.8924050632911392,\n",
       " 0.905874348912946,\n",
       " 0.8924050632911392,\n",
       " 0.8964384828148488,\n",
       " 0.7930763178599527,\n",
       " 0.9116077481840194,\n",
       " 0.8339559716229065,\n",
       " array([1.        , 0.75      , 0.95731707, 0.75806452, 0.5       ]),\n",
       " array([0.96428571, 0.9       , 0.89714286, 0.79661017, 1.        ]),\n",
       " array([0.98181818, 0.81818182, 0.92625369, 0.7768595 , 0.66666667])]"
      ]
     },
     "execution_count": 100,
     "metadata": {},
     "output_type": "execute_result"
    }
   ],
   "source": [
    "metrics_rf = list(exp_rf['results'].values())\n",
    "metrics_rf"
   ]
  },
  {
   "cell_type": "code",
   "execution_count": 114,
   "metadata": {},
   "outputs": [
    {
     "data": {
      "image/png": "[encoded data removed]",
      "text/plain": [
       "<Figure size 1200x400 with 1 Axes>"
      ]
     },
     "metadata": {},
     "output_type": "display_data"
    }
   ],
   "source": [
    "import numpy as np\n",
    "\n",
    "X = ['MLP Classifier', 'Logistic Regression', 'KNN', \n",
    "     'Decision Tree', 'SVC', 'Random Forest',\n",
    "     'XGBoost', 'LightGBM', 'AdaBoost']\n",
    "\n",
    "acc = []\n",
    "precision = []\n",
    "recall = []\n",
    "f1 = []\n",
    "\n",
    "metrics = []\n",
    "\n",
    "metrics_rf = list(exp_rf['results'].values())[:4]\n",
    "metrics_mlp = list(exp_mlp['results'].values())[:4]\n",
    "metrics_ada = list(exp_ada['results'].values())[:4]\n",
    "metrics_knn = list(exp_knn['results'].values())[:4]\n",
    "metrics_dt = list(exp_dt['results'].values())[:4]\n",
    "metrics_lgbm = list(exp_lgbm['results'].values())[:4]\n",
    "metrics_svc = list(exp_svc['results'].values())[:4]\n",
    "metrics_lr = list(exp_lr['results'].values())[:4]\n",
    "metrics_xgb = list(exp_xgb['results'].values())[:4]\n",
    "\n",
    "metrics.append(metrics_rf)\n",
    "metrics.append(metrics_mlp)\n",
    "metrics.append(metrics_ada)\n",
    "metrics.append(metrics_knn)\n",
    "metrics.append(metrics_dt)\n",
    "metrics.append(metrics_lgbm)\n",
    "metrics.append(metrics_svc)\n",
    "metrics.append(metrics_lr)\n",
    "metrics.append(metrics_xgb)\n",
    "\n",
    "for metric in metrics:\n",
    "    acc.append(metric[0])\n",
    "    precision.append(metric[1])\n",
    "    recall.append(metric[2])\n",
    "    f1.append(metric[3])\n",
    "\n",
    "\n",
    "X_axis = np.arange(len(X))\n",
    "  \n",
    "plt.bar(X_axis - 0.3, acc, 0.2, label = 'Accuracy')\n",
    "plt.bar(X_axis - 0.1, precision, 0.2, label = 'Precision')\n",
    "plt.bar(X_axis + 0.1, recall, 0.2, label = 'Recall')\n",
    "plt.bar(X_axis + 0.3, f1, 0.2, label = 'F1 score')\n",
    "  \n",
    "plt.xticks(X_axis, X)\n",
    "plt.xlabel(\"Groups\")\n",
    "plt.ylabel(\"Number of Students\")\n",
    "plt.title(\"Number of Students in each group\")\n",
    "plt.legend()\n",
    "plt.grid(axis='y', zorder=0)\n",
    "plt.show()"
   ]
  },
  {
   "cell_type": "code",
   "execution_count": 124,
   "metadata": {},
   "outputs": [
    {
     "data": {
      "text/plain": [
       "0.8955696202531646"
      ]
     },
     "execution_count": 124,
     "metadata": {},
     "output_type": "execute_result"
    }
   ],
   "source": [
    "precision[-2]\n",
    "recall[-2]\n"
   ]
  },
  {
   "cell_type": "code",
   "execution_count": null,
   "metadata": {},
   "outputs": [],
   "source": []
  }
 ],
 "metadata": {
  "kernelspec": {
   "display_name": "bca_env",
   "language": "python",
   "name": "python3"
  },
  "language_info": {
   "codemirror_mode": {
    "name": "ipython",
    "version": 3
   },
   "file_extension": ".py",
   "mimetype": "text/x-python",
   "name": "python",
   "nbconvert_exporter": "python",
   "pygments_lexer": "ipython3",
   "version": "3.9.16"
  },
  "orig_nbformat": 4,
  "vscode": {
   "interpreter": {
    "hash": "73866af339f7fa990f06dd0542cd24f85090c96f6244b8bc7256d2829ae17367"
   }
  }
 },
 "nbformat": 4,
 "nbformat_minor": 2
}
