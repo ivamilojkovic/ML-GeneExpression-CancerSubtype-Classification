{
 "cells": [
  {
   "cell_type": "code",
   "execution_count": 1,
   "metadata": {},
   "outputs": [
    {
     "data": {
      "text/plain": [
       "'temp-plot.html'"
      ]
     },
     "execution_count": 1,
     "metadata": {},
     "output_type": "execute_result"
    }
   ],
   "source": [
    "import plotly.graph_objects as go\n",
    "import plotly.offline as pyo\n",
    "\n",
    "\n",
    "categories = ['Accuracy (subset)', 'Relaxed Accuracy (PAM50)', \n",
    "            'Relaxed Accuracy (original)', 'Ranking Average Precision', \n",
    "            'Average Precision', 'Hamming Loss']\n",
    "categories = [*categories, categories[0]]\n",
    "\n",
    "case_BR = [0.80696, 0.83544, 0.82595, \n",
    "           0.93945, 0.69914, 0.04810]\n",
    "\n",
    "case_CC = [0.81013, 0.83544, 0.82594,\n",
    "           0.93787, 0.68752, 0.04810]\n",
    "\n",
    "case_LP = [0.90506, 0.87658, 0.88291, \n",
    "           0.94921, 0.77469, 0.03797]\n",
    "\n",
    "case_BR = [*case_BR, case_BR[0]]\n",
    "case_CC = [*case_CC, case_CC[0]]\n",
    "case_LP = [*case_LP, case_LP[0]]\n",
    "\n",
    "fig = go.Figure(\n",
    "    data=[\n",
    "        go.Scatterpolar(r=case_BR, theta=categories, name='Binary Relevance'),\n",
    "        go.Scatterpolar(r=case_CC, theta=categories, name='Classifier Clain'),\n",
    "        go.Scatterpolar(r=case_LP, theta=categories, name='Label Powerset')\n",
    "    ],\n",
    "    layout=go.Layout(\n",
    "        title=go.layout.Title(text='Logistic Regression'),\n",
    "        polar={'radialaxis': {'visible': False}},\n",
    "        showlegend=True\n",
    "    )\n",
    ")\n",
    "\n",
    "pyo.plot(fig)\n"
   ]
  },
  {
   "cell_type": "code",
   "execution_count": 2,
   "metadata": {},
   "outputs": [
    {
     "data": {
      "text/plain": [
       "'temp-plot.html'"
      ]
     },
     "execution_count": 2,
     "metadata": {},
     "output_type": "execute_result"
    }
   ],
   "source": [
    "import plotly.graph_objects as go\n",
    "import plotly.offline as pyo\n",
    "\n",
    "\n",
    "categories = ['Accuracy (subset)', 'Relaxed Accuracy (PAM50)', \n",
    "            'Relaxed Accuracy (original)', 'Ranking Average Precision', \n",
    "            'Average Precision', 'Hamming Loss']\n",
    "categories = [*categories, categories[0]]\n",
    "\n",
    "case_BR = [0.76899, 0.83544, 0.82595, \n",
    "           0.91888, 0.67683, 0.06075]\n",
    "\n",
    "case_CC = [0.77215, 0.83544, 0.82594,\n",
    "           0.92062, 0.67169, 0.06076]\n",
    "\n",
    "case_LP = [0.88291, 0.87658, 0.88291, \n",
    "           0.93855, 0.73869, 0.04683]\n",
    "\n",
    "case_BR = [*case_BR, case_BR[0]]\n",
    "case_CC = [*case_CC, case_CC[0]]\n",
    "case_LP = [*case_LP, case_LP[0]]\n",
    "\n",
    "fig = go.Figure(\n",
    "    data=[\n",
    "        go.Scatterpolar(r=case_BR, theta=categories, name='Binary Relevance'),\n",
    "        go.Scatterpolar(r=case_CC, theta=categories, name='Classifier Clain'),\n",
    "        go.Scatterpolar(r=case_LP, theta=categories, name='Label Powerset')\n",
    "    ],\n",
    "    layout=go.Layout(\n",
    "        title=go.layout.Title(text='Logistic Regression - PAM50'),\n",
    "        polar={'radialaxis': {'visible': False}},\n",
    "        showlegend=True\n",
    "    )\n",
    ")\n",
    "\n",
    "pyo.plot(fig)\n"
   ]
  },
  {
   "cell_type": "code",
   "execution_count": 3,
   "metadata": {},
   "outputs": [
    {
     "data": {
      "text/plain": [
       "'temp-plot.html'"
      ]
     },
     "execution_count": 3,
     "metadata": {},
     "output_type": "execute_result"
    }
   ],
   "source": [
    "import plotly.graph_objects as go\n",
    "import plotly.offline as pyo\n",
    "\n",
    "\n",
    "categories = ['Accuracy (subset)', 'Relaxed Accuracy (PAM50)', \n",
    "            'Relaxed Accuracy (original)', 'Ranking Average Precision', \n",
    "            'Average Precision', 'Hamming Loss']\n",
    "categories = [*categories, categories[0]]\n",
    "\n",
    "case_BR = [0.76898, 0.83544, 0.82595, \n",
    "           0.98270, 0.83228, 0.05379]\n",
    "\n",
    "case_CC = [0.76899, 0.83544, 0.82594,\n",
    "           0.98270, 0.83023, 0.05443]\n",
    "\n",
    "case_LP = [0.75000, 0.87658, 0.88291, \n",
    "           0.98296, 0.81434, 0.05823]\n",
    "\n",
    "case_BR = [*case_BR, case_BR[0]]\n",
    "case_CC = [*case_CC, case_CC[0]]\n",
    "case_LP = [*case_LP, case_LP[0]]\n",
    "\n",
    "fig = go.Figure(\n",
    "    data=[\n",
    "        go.Scatterpolar(r=case_BR, theta=categories, name='Binary Relevance'),\n",
    "        go.Scatterpolar(r=case_CC, theta=categories, name='Classifier Clain'),\n",
    "        go.Scatterpolar(r=case_LP, theta=categories, name='Label Powerset')\n",
    "    ],\n",
    "    layout=go.Layout(\n",
    "        title=go.layout.Title(text='Logistic Regression - PAM50 after M-cut strategy'),\n",
    "        polar={'radialaxis': {'visible': False}},\n",
    "        showlegend=True\n",
    "    )\n",
    ")\n",
    "\n",
    "pyo.plot(fig)\n"
   ]
  }
 ],
 "metadata": {
  "kernelspec": {
   "display_name": "bca_env",
   "language": "python",
   "name": "python3"
  },
  "language_info": {
   "codemirror_mode": {
    "name": "ipython",
    "version": 3
   },
   "file_extension": ".py",
   "mimetype": "text/x-python",
   "name": "python",
   "nbconvert_exporter": "python",
   "pygments_lexer": "ipython3",
   "version": "3.9.16"
  },
  "orig_nbformat": 4,
  "vscode": {
   "interpreter": {
    "hash": "73866af339f7fa990f06dd0542cd24f85090c96f6244b8bc7256d2829ae17367"
   }
  }
 },
 "nbformat": 4,
 "nbformat_minor": 2
}
