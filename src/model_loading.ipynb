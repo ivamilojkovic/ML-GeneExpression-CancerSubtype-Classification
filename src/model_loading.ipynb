{
 "cells": [
  {
   "cell_type": "code",
   "execution_count": 7,
   "metadata": {},
   "outputs": [
    {
     "data": {
      "text/plain": [
       "Pipeline(steps=[('classifier',\n",
       "                 RakelD(base_classifier=RandomForestClassifier(criterion='entropy',\n",
       "                                                               min_samples_split=4,\n",
       "                                                               n_estimators=150,\n",
       "                                                               random_state=4),\n",
       "                        labelset_size=2))])"
      ]
     },
     "execution_count": 7,
     "metadata": {},
     "output_type": "execute_result"
    }
   ],
   "source": [
    "import pickle\n",
    "\n",
    "# Random Forest\n",
    "with open('../ml_chain_best_model_lr11-07-2023_20:47:46.pkl', 'rb') as f:\n",
    "    model_10perc = pickle.load(f)\n",
    "\n",
    "with open('../ml_chain_best_model_lr11-07-2023_20:07:30.pkl', 'rb') as f:\n",
    "    model_5perc = pickle.load(f)\n",
    "\n",
    "with open('../ml_chain_best_model_lr11-07-2023_17:45:07.pkl', 'rb') as f:\n",
    "    model_mcut = pickle.load(f)\n",
    "\n",
    "model_mcut"
   ]
  },
  {
   "cell_type": "code",
   "execution_count": 10,
   "metadata": {},
   "outputs": [
    {
     "data": {
      "text/plain": [
       "Pipeline(steps=[('classifier',\n",
       "                 RakelD(base_classifier=XGBClassifier(base_score=0.5,\n",
       "                                                      booster='gbtree',\n",
       "                                                      callbacks=None,\n",
       "                                                      colsample_bylevel=None,\n",
       "                                                      colsample_bynode=None,\n",
       "                                                      colsample_bytree=0.5,\n",
       "                                                      early_stopping_rounds=None,\n",
       "                                                      enable_categorical=False,\n",
       "                                                      eval_metric=None,\n",
       "                                                      feature_types=None,\n",
       "                                                      gamma=0.25, gpu_id=None,\n",
       "                                                      grow_policy=None,\n",
       "                                                      importance_type=None,\n",
       "                                                      interaction_constraints=None,\n",
       "                                                      learning_rate=0.1,\n",
       "                                                      max_bin=None,\n",
       "                                                      max_cat_threshold=None,\n",
       "                                                      max_cat_to_onehot=None,\n",
       "                                                      max_delta_step=None,\n",
       "                                                      max_depth=5,\n",
       "                                                      max_leaves=None,\n",
       "                                                      min_child_weight=None,\n",
       "                                                      missing=nan,\n",
       "                                                      monotone_constraints=None,\n",
       "                                                      n_estimators=100,\n",
       "                                                      n_jobs=None,\n",
       "                                                      num_parallel_tree=None,\n",
       "                                                      objective='multi:softprob',\n",
       "                                                      predictor=None, ...)))])"
      ]
     },
     "execution_count": 10,
     "metadata": {},
     "output_type": "execute_result"
    }
   ],
   "source": [
    "# Random Forest\n",
    "with open('../ml_chain_best_model_lr11-07-2023_17:06:13.pkl', 'rb') as f:\n",
    "    model_10perc = pickle.load(f)\n",
    "\n",
    "with open('../ml_chain_best_model_lr11-07-2023_16:22:23.pkl', 'rb') as f:\n",
    "    model_5perc = pickle.load(f)\n",
    "\n",
    "with open('../ml_chain_best_model_lr11-07-2023_15:37:07.pkl', 'rb') as f:\n",
    "    model_mcut = pickle.load(f)\n",
    "\n",
    "model_10perc"
   ]
  },
  {
   "cell_type": "code",
   "execution_count": null,
   "metadata": {},
   "outputs": [],
   "source": []
  }
 ],
 "metadata": {
  "kernelspec": {
   "display_name": "bca_env",
   "language": "python",
   "name": "python3"
  },
  "language_info": {
   "codemirror_mode": {
    "name": "ipython",
    "version": 3
   },
   "file_extension": ".py",
   "mimetype": "text/x-python",
   "name": "python",
   "nbconvert_exporter": "python",
   "pygments_lexer": "ipython3",
   "version": "3.9.16"
  },
  "orig_nbformat": 4,
  "vscode": {
   "interpreter": {
    "hash": "73866af339f7fa990f06dd0542cd24f85090c96f6244b8bc7256d2829ae17367"
   }
  }
 },
 "nbformat": 4,
 "nbformat_minor": 2
}
